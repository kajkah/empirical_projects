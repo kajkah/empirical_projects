{
 "cells": [
  {
   "cell_type": "markdown",
   "id": "a6eb8a0c-bd2e-4e92-b649-bdf9b93b3a77",
   "metadata": {},
   "source": [
    "__________\n",
    "\n",
    "# FINANCIAL ECONOMETRICS Summer Semester 2023\n",
    "## EMPIRICAL PROJECT\n",
    "### Authors: Tomáš Bajcár, Karolína Hozová\n",
    "### Author's emails: 37665566@fsv.cuni.cz, 59645240@fsv.cuni.cz\n",
    "\n",
    "_____________"
   ]
  },
  {
   "cell_type": "markdown",
   "id": "106de4cd-79ca-4fb0-9bb0-0c07d9b1a03f",
   "metadata": {},
   "source": [
    "In this empirical project, stock analysis for Archer-Daniels-Midland Co. (ADM) will be performed. Archer-Daniels-Midland Company is an American multinational corporation focusing on food processing and commodities trading. Established in 1902 and based in Chicago, Illinois, ADM holds a prominent position in the industry. It secured the 38th spot on the Fortune 500 list of the largest US corporations in 2022. ADM is listed on NASDAQ."
   ]
  },
  {
   "cell_type": "code",
   "execution_count": 1,
   "id": "98dcd5b7-0cda-447e-a55f-4d9c63c28547",
   "metadata": {
    "tags": []
   },
   "outputs": [
    {
     "name": "stderr",
     "output_type": "stream",
     "text": [
      "also installing the dependencies ‘misc3d’, ‘plot3D’, ‘ks’\n",
      "\n",
      "\n",
      "Warning message in install.packages(\"rugarch\"):\n",
      "“installation of package ‘misc3d’ had non-zero exit status”\n",
      "Warning message in install.packages(\"rugarch\"):\n",
      "“installation of package ‘plot3D’ had non-zero exit status”\n",
      "Warning message in install.packages(\"rugarch\"):\n",
      "“installation of package ‘ks’ had non-zero exit status”\n",
      "Warning message in install.packages(\"rugarch\"):\n",
      "“installation of package ‘rugarch’ had non-zero exit status”\n",
      "Updating HTML index of packages in '.Library'\n",
      "\n",
      "Making 'packages.html' ...\n",
      " done\n",
      "\n",
      "Updating HTML index of packages in '.Library'\n",
      "\n",
      "Making 'packages.html' ...\n",
      " done\n",
      "\n",
      "Warning message in install.packages(\"data.table\"):\n",
      "“installation of package ‘data.table’ had non-zero exit status”\n",
      "Updating HTML index of packages in '.Library'\n",
      "\n",
      "Making 'packages.html' ...\n",
      " done\n",
      "\n",
      "Updating HTML index of packages in '.Library'\n",
      "\n",
      "Making 'packages.html' ...\n",
      " done\n",
      "\n",
      "Updating HTML index of packages in '.Library'\n",
      "\n",
      "Making 'packages.html' ...\n",
      " done\n",
      "\n",
      "Updating HTML index of packages in '.Library'\n",
      "\n",
      "Making 'packages.html' ...\n",
      " done\n",
      "\n",
      "Warning message in install.packages(\"forecast\"):\n",
      "“installation of package ‘forecast’ had non-zero exit status”\n",
      "Updating HTML index of packages in '.Library'\n",
      "\n",
      "Making 'packages.html' ...\n",
      " done\n",
      "\n",
      "also installing the dependencies ‘pkgload’, ‘testthat’, ‘nloptr’, ‘pbkrtest’, ‘lme4’\n",
      "\n",
      "\n",
      "Warning message in install.packages(\"car\"):\n",
      "“installation of package ‘nloptr’ had non-zero exit status”\n",
      "Warning message in install.packages(\"car\"):\n",
      "“installation of package ‘lme4’ had non-zero exit status”\n",
      "Warning message in install.packages(\"car\"):\n",
      "“installation of package ‘pbkrtest’ had non-zero exit status”\n",
      "Warning message in install.packages(\"car\"):\n",
      "“installation of package ‘car’ had non-zero exit status”\n",
      "Updating HTML index of packages in '.Library'\n",
      "\n",
      "Making 'packages.html' ...\n",
      " done\n",
      "\n"
     ]
    },
    {
     "ename": "ERROR",
     "evalue": "Error in library(\"rugarch\"): there is no package called ‘rugarch’\n",
     "output_type": "error",
     "traceback": [
      "Error in library(\"rugarch\"): there is no package called ‘rugarch’\nTraceback:\n",
      "1. library(\"rugarch\")"
     ]
    }
   ],
   "source": [
    "install.packages('rugarch')\n",
    "install.packages('tseries')\n",
    "install.packages('data.table')\n",
    "install.packages('aod')\n",
    "install.packages('zoo')\n",
    "install.packages('xts')\n",
    "install.packages('forecast')\n",
    "install.packages('car')\n",
    "\n",
    "library('rugarch')\n",
    "library('tseries')\n",
    "library('data.table')\n",
    "library(\"aod\")\n",
    "library('zoo')\n",
    "library('xts')\n",
    "library('forecast')\n",
    "library(\"car\")"
   ]
  },
  {
   "cell_type": "markdown",
   "id": "10dc7f85-74bb-4c64-9c49-272be297c248",
   "metadata": {},
   "source": [
    "## 1. Data description\n",
    "\n",
    "In this section, a short summary of descriptive statistics will be provided, as well as ACF plots and other handful plots of the data. The data consist of returns, realized variance, positive realized variance, negative realized variance, realized skewness and realized kurtosis over sample period 05.01.2010 - 22.01.2016. ADM "
   ]
  },
  {
   "cell_type": "code",
   "execution_count": 5,
   "id": "f896aac8-4f1b-4943-9d73-ec158a1f9d82",
   "metadata": {},
   "outputs": [
    {
     "data": {
      "text/html": [
       "'/Users/karolina'"
      ],
      "text/latex": [
       "'/Users/karolina'"
      ],
      "text/markdown": [
       "'/Users/karolina'"
      ],
      "text/plain": [
       "[1] \"/Users/karolina\""
      ]
     },
     "metadata": {},
     "output_type": "display_data"
    }
   ],
   "source": [
    "getwd()"
   ]
  },
  {
   "cell_type": "markdown",
   "id": "6e2cabdf-c990-4e5c-b9c5-13c116f53d9d",
   "metadata": {},
   "source": [
    "## 2. In-sample fit"
   ]
  },
  {
   "cell_type": "markdown",
   "id": "a5d3cc80-a1be-4d3b-afbe-3e7ec1d32e16",
   "metadata": {},
   "source": [
    "## 3. Forecasts"
   ]
  },
  {
   "cell_type": "markdown",
   "id": "8db22a52-e25e-4412-92a8-935e332c31ed",
   "metadata": {},
   "source": [
    "## 4. Summary"
   ]
  },
  {
   "cell_type": "code",
   "execution_count": null,
   "id": "b1481c29-8ab9-4ffe-8653-6d5f40da3137",
   "metadata": {},
   "outputs": [],
   "source": []
  }
 ],
 "metadata": {
  "kernelspec": {
   "display_name": "R",
   "language": "R",
   "name": "ir"
  },
  "language_info": {
   "codemirror_mode": "r",
   "file_extension": ".r",
   "mimetype": "text/x-r-source",
   "name": "R",
   "pygments_lexer": "r",
   "version": "4.2.3"
  }
 },
 "nbformat": 4,
 "nbformat_minor": 5
}
